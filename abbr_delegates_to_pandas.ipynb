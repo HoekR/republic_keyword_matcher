{
 "cells": [
  {
   "cell_type": "code",
   "execution_count": 10,
   "metadata": {},
   "outputs": [],
   "source": [
    "import pandas as pd\n"
   ]
  },
  {
   "cell_type": "code",
   "execution_count": 23,
   "metadata": {},
   "outputs": [],
   "source": [
    "ad = pd.read_excel('/Users/rikhoekstra/surfdrive/notebooks/republic-hocr-parser/republic/republic_keyword_matcher/data/csvs/abbreviated_delegates.xlsx')"
   ]
  },
  {
   "cell_type": "code",
   "execution_count": 30,
   "metadata": {},
   "outputs": [
    {
     "data": {
      "text/plain": [
       "'[1795, 1796]'"
      ]
     },
     "execution_count": 30,
     "metadata": {},
     "output_type": "execute_result"
    }
   ],
   "source": [
    "ad.p_interval[0]"
   ]
  },
  {
   "cell_type": "code",
   "execution_count": 60,
   "metadata": {},
   "outputs": [],
   "source": [
    "ad.drop([c for c in ad.columns if 'Unnamed' in c], axis=1, inplace=True)"
   ]
  },
  {
   "cell_type": "code",
   "execution_count": 19,
   "metadata": {},
   "outputs": [],
   "source": [
    "abbreviated_delegates = ad"
   ]
  },
  {
   "cell_type": "code",
   "execution_count": 40,
   "metadata": {},
   "outputs": [],
   "source": [
    "df = pd.read_excel(\"/Users/rikhoekstra/surfdrive/notebooks/republic-hocr-parser/notebooks/sheets/gedeputeerden_uitgebreid.xlsx\")"
   ]
  },
  {
   "cell_type": "code",
   "execution_count": 41,
   "metadata": {},
   "outputs": [
    {
     "data": {
      "text/plain": [
       "Index(['functienaam', 'college', 'regent', 'geboortedatum', 'overlijdensdatum',\n",
       "       'id', 'van', 'van_als_bekend', 'tot', 'tot_als_bekend', 'persoon_id',\n",
       "       'functie_id', 'instelling_id', 'regio_id', 'provincie_id', 'lokaal_id',\n",
       "       'stand_id', 'vertegenwoordigend', 'opmerkingen', 'begindag',\n",
       "       'beginjaar', 'beginmaand', 'einddag', 'eindjaar', 'eindmaand', 'old_id',\n",
       "       'old_idcollege', 'old_idfunctie', 'old_idregent', 'old_lokaal',\n",
       "       'old_provinciaal', 'old_regio', 'old_stand', 'old_vertegenwoordigend',\n",
       "       'periode'],\n",
       "      dtype='object')"
      ]
     },
     "execution_count": 41,
     "metadata": {},
     "output_type": "execute_result"
    }
   ],
   "source": [
    "df.columns"
   ]
  },
  {
   "cell_type": "code",
   "execution_count": 53,
   "metadata": {},
   "outputs": [
    {
     "data": {
      "text/plain": [
       "[1795, 1796]"
      ]
     },
     "execution_count": 53,
     "metadata": {},
     "output_type": "execute_result"
    }
   ],
   "source": [
    "import ast\n",
    "ast.literal_eval(list(ad.p_interval)[0])"
   ]
  },
  {
   "cell_type": "code",
   "execution_count": 38,
   "metadata": {},
   "outputs": [],
   "source": [
    "ad['geboortejaar'] = ad.geboortejaar.apply(lambda x: pd.Period(x, freq=\"D\"))"
   ]
  },
  {
   "cell_type": "code",
   "execution_count": 37,
   "metadata": {},
   "outputs": [],
   "source": [
    "ad['overlijdensjaar'] = ad.sterfjaar.apply(lambda x: pd.Period(x, freq=\"D\"))"
   ]
  },
  {
   "cell_type": "raw",
   "metadata": {},
   "source": [
    "def ptoy(p):\n",
    "    mn = p.min().year\n",
    "    if pd.isna(mn):\n",
    "        mn = 0\n",
    "    mx = p.max().year or 0\n",
    "    if pd.isna(mx):\n",
    "        mx = 0\n",
    "    i1 = pd.Interval(int(mn), int(mx), closed='both')\n",
    "    return i1"
   ]
  },
  {
   "cell_type": "raw",
   "metadata": {},
   "source": [
    "for c in ad.columns:\n",
    "    print(c, ad[c].dtype)"
   ]
  },
  {
   "cell_type": "code",
   "execution_count": null,
   "metadata": {},
   "outputs": [],
   "source": [
    "for interval in ['h_life', 'p_interval'] :     \n",
    "    ni = ad[interval].apply(lambda x: ast.literal_eval(x))\n",
    "    nii = ni.apply(lambda x: pd.Interval(int(x[0]), int(x[1]), closed='both'))\n",
    "    ad[interval] = nii"
   ]
  },
  {
   "cell_type": "code",
   "execution_count": 66,
   "metadata": {},
   "outputs": [],
   "source": [
    "ad.to_pickle('/Users/rikhoekstra/surfdrive/notebooks/republic-hocr-parser/notebooks/sheets/abbreviated_delegates.pickle')"
   ]
  },
  {
   "cell_type": "code",
   "execution_count": 67,
   "metadata": {},
   "outputs": [
    {
     "data": {
      "text/html": [
       "<div>\n",
       "<style scoped>\n",
       "    .dataframe tbody tr th:only-of-type {\n",
       "        vertical-align: middle;\n",
       "    }\n",
       "\n",
       "    .dataframe tbody tr th {\n",
       "        vertical-align: top;\n",
       "    }\n",
       "\n",
       "    .dataframe thead th {\n",
       "        text-align: right;\n",
       "    }\n",
       "</style>\n",
       "<table border=\"1\" class=\"dataframe\">\n",
       "  <thead>\n",
       "    <tr style=\"text-align: right;\">\n",
       "      <th></th>\n",
       "      <th>id</th>\n",
       "      <th>name</th>\n",
       "      <th>geboortejaar</th>\n",
       "      <th>sterfjaar</th>\n",
       "      <th>age_at_repr</th>\n",
       "      <th>colleges</th>\n",
       "      <th>functions</th>\n",
       "      <th>period</th>\n",
       "      <th>sg</th>\n",
       "      <th>was_gedeputeerde</th>\n",
       "      <th>p_interval</th>\n",
       "      <th>h_life</th>\n",
       "      <th>geboortedatum_p</th>\n",
       "      <th>overlijdensjaar</th>\n",
       "    </tr>\n",
       "  </thead>\n",
       "  <tbody>\n",
       "    <tr>\n",
       "      <th>0</th>\n",
       "      <td>4</td>\n",
       "      <td>van Wickevoort Crommelin</td>\n",
       "      <td>1763-01-01</td>\n",
       "      <td>1837-12-31</td>\n",
       "      <td>NaN</td>\n",
       "      <td>Staten-Generaal der Verenigde Nederlandse Prov...</td>\n",
       "      <td>gedeputeerde</td>\n",
       "      <td>PeriodIndex(['1795-06-03', '1795-06-04', '1795...</td>\n",
       "      <td>True</td>\n",
       "      <td>True</td>\n",
       "      <td>[1795, 1796]</td>\n",
       "      <td>[1763, 1837]</td>\n",
       "      <td>1763-01-01</td>\n",
       "      <td>1837-12-31</td>\n",
       "    </tr>\n",
       "    <tr>\n",
       "      <th>1</th>\n",
       "      <td>5</td>\n",
       "      <td>Appelius</td>\n",
       "      <td>1767-01-01</td>\n",
       "      <td>1828-12-31</td>\n",
       "      <td>NaN</td>\n",
       "      <td>Provisionele Representanten van het Volk van Z...</td>\n",
       "      <td>lid</td>\n",
       "      <td>PeriodIndex(['1795-10-20', '1795-10-21', '1795...</td>\n",
       "      <td>False</td>\n",
       "      <td>False</td>\n",
       "      <td>[1795, 1796]</td>\n",
       "      <td>[1767, 1828]</td>\n",
       "      <td>1767-01-01</td>\n",
       "      <td>1828-12-31</td>\n",
       "    </tr>\n",
       "    <tr>\n",
       "      <th>2</th>\n",
       "      <td>13</td>\n",
       "      <td>Bosscha</td>\n",
       "      <td>1767-01-01</td>\n",
       "      <td>1810-12-31</td>\n",
       "      <td>NaN</td>\n",
       "      <td>Hof van Friesland (1499-1811)</td>\n",
       "      <td>raadsheer</td>\n",
       "      <td>PeriodIndex(['1795-08-28', '1795-08-29', '1795...</td>\n",
       "      <td>False</td>\n",
       "      <td>False</td>\n",
       "      <td>[1795, 1796]</td>\n",
       "      <td>[1767, 1810]</td>\n",
       "      <td>1767-01-01</td>\n",
       "      <td>1810-12-31</td>\n",
       "    </tr>\n",
       "    <tr>\n",
       "      <th>3</th>\n",
       "      <td>14</td>\n",
       "      <td>van Hooff</td>\n",
       "      <td>1755-01-01</td>\n",
       "      <td>1816-12-31</td>\n",
       "      <td>NaN</td>\n",
       "      <td>Staten-Generaal der Verenigde Nederlandse Prov...</td>\n",
       "      <td>gedeputeerde</td>\n",
       "      <td>PeriodIndex(['1796-03-01'], dtype='period[D]',...</td>\n",
       "      <td>True</td>\n",
       "      <td>True</td>\n",
       "      <td>[1796, 1796]</td>\n",
       "      <td>[1755, 1816]</td>\n",
       "      <td>1755-01-01</td>\n",
       "      <td>1816-12-31</td>\n",
       "    </tr>\n",
       "    <tr>\n",
       "      <th>4</th>\n",
       "      <td>15</td>\n",
       "      <td>Verhoysen</td>\n",
       "      <td>1757-01-01</td>\n",
       "      <td>1835-12-31</td>\n",
       "      <td>NaN</td>\n",
       "      <td>Provisionele Representanten van het Volk van B...</td>\n",
       "      <td>lid</td>\n",
       "      <td>PeriodIndex(['1795-08-24', '1795-08-25', '1795...</td>\n",
       "      <td>False</td>\n",
       "      <td>False</td>\n",
       "      <td>[1795, 1796]</td>\n",
       "      <td>[1757, 1835]</td>\n",
       "      <td>1757-01-01</td>\n",
       "      <td>1835-12-31</td>\n",
       "    </tr>\n",
       "    <tr>\n",
       "      <th>...</th>\n",
       "      <td>...</td>\n",
       "      <td>...</td>\n",
       "      <td>...</td>\n",
       "      <td>...</td>\n",
       "      <td>...</td>\n",
       "      <td>...</td>\n",
       "      <td>...</td>\n",
       "      <td>...</td>\n",
       "      <td>...</td>\n",
       "      <td>...</td>\n",
       "      <td>...</td>\n",
       "      <td>...</td>\n",
       "      <td>...</td>\n",
       "      <td>...</td>\n",
       "    </tr>\n",
       "    <tr>\n",
       "      <th>7940</th>\n",
       "      <td>19999</td>\n",
       "      <td>van Reede</td>\n",
       "      <td>1674-01-01</td>\n",
       "      <td>1730-05-02</td>\n",
       "      <td>52.0</td>\n",
       "      <td>Generaliteitsrekenkamer (1608-1799), Staten-Ge...</td>\n",
       "      <td>gecommitteerde, ordinaris gedeputeerde</td>\n",
       "      <td>PeriodIndex(['1696-05-02', '1696-05-03', '1696...</td>\n",
       "      <td>True</td>\n",
       "      <td>True</td>\n",
       "      <td>[1696, 1714]</td>\n",
       "      <td>[1674, 1730]</td>\n",
       "      <td>1674-01-01</td>\n",
       "      <td>1730-05-02</td>\n",
       "    </tr>\n",
       "    <tr>\n",
       "      <th>7941</th>\n",
       "      <td>20000</td>\n",
       "      <td>van Wijnbergen</td>\n",
       "      <td>NaT</td>\n",
       "      <td>1703-12-31</td>\n",
       "      <td>NaN</td>\n",
       "      <td>Staten-Generaal der Verenigde Nederlanden (158...</td>\n",
       "      <td>ordinaris gedeputeerde, lid</td>\n",
       "      <td>PeriodIndex(['1660-10-15', '1660-10-16', '1660...</td>\n",
       "      <td>True</td>\n",
       "      <td>True</td>\n",
       "      <td>[1660, 1705]</td>\n",
       "      <td>[1616, 1703]</td>\n",
       "      <td>NaT</td>\n",
       "      <td>1703-12-31</td>\n",
       "    </tr>\n",
       "    <tr>\n",
       "      <th>7942</th>\n",
       "      <td>20001</td>\n",
       "      <td>van Arnhem tot Harselo</td>\n",
       "      <td>1636-01-01</td>\n",
       "      <td>1716-12-12</td>\n",
       "      <td>NaN</td>\n",
       "      <td>Ridderschap van het Kwartier Veluwe, Gedeputee...</td>\n",
       "      <td>lid, gedeputeerde, extraordinaris raadsheer</td>\n",
       "      <td>PeriodIndex(['1658-01-01', '1658-01-02', '1658...</td>\n",
       "      <td>False</td>\n",
       "      <td>False</td>\n",
       "      <td>[1658, 1716]</td>\n",
       "      <td>[1636, 1716]</td>\n",
       "      <td>1636-01-01</td>\n",
       "      <td>1716-12-12</td>\n",
       "    </tr>\n",
       "    <tr>\n",
       "      <th>7943</th>\n",
       "      <td>20002</td>\n",
       "      <td>van Arnhem</td>\n",
       "      <td>1596-01-01</td>\n",
       "      <td>1649-09-06</td>\n",
       "      <td>NaN</td>\n",
       "      <td>Ridderschap van het Kwartier Veluwe, Gedeputee...</td>\n",
       "      <td>lid, extraordinaris raadsheer, raadsheer</td>\n",
       "      <td>PeriodIndex(['1619-01-01', '1619-01-02', '1619...</td>\n",
       "      <td>False</td>\n",
       "      <td>False</td>\n",
       "      <td>[1619, 1649]</td>\n",
       "      <td>[1596, 1649]</td>\n",
       "      <td>1596-01-01</td>\n",
       "      <td>1649-09-06</td>\n",
       "    </tr>\n",
       "    <tr>\n",
       "      <th>7944</th>\n",
       "      <td>20003</td>\n",
       "      <td>van Haersolte tot Yrst</td>\n",
       "      <td>1644-01-01</td>\n",
       "      <td>1728-07-01</td>\n",
       "      <td>82.0</td>\n",
       "      <td>Generaliteitsrekenkamer (1608-1799), Gedeputee...</td>\n",
       "      <td>gecommitteerde, lid</td>\n",
       "      <td>PeriodIndex(['1675-03-18', '1675-03-19', '1675...</td>\n",
       "      <td>False</td>\n",
       "      <td>False</td>\n",
       "      <td>[1675, 1728]</td>\n",
       "      <td>[1644, 1728]</td>\n",
       "      <td>1644-01-01</td>\n",
       "      <td>1728-07-01</td>\n",
       "    </tr>\n",
       "  </tbody>\n",
       "</table>\n",
       "<p>7945 rows × 14 columns</p>\n",
       "</div>"
      ],
      "text/plain": [
       "         id                      name geboortejaar   sterfjaar  age_at_repr  \\\n",
       "0         4  van Wickevoort Crommelin   1763-01-01  1837-12-31          NaN   \n",
       "1         5                  Appelius   1767-01-01  1828-12-31          NaN   \n",
       "2        13                   Bosscha   1767-01-01  1810-12-31          NaN   \n",
       "3        14                 van Hooff   1755-01-01  1816-12-31          NaN   \n",
       "4        15                 Verhoysen   1757-01-01  1835-12-31          NaN   \n",
       "...     ...                       ...          ...         ...          ...   \n",
       "7940  19999                 van Reede   1674-01-01  1730-05-02         52.0   \n",
       "7941  20000            van Wijnbergen          NaT  1703-12-31          NaN   \n",
       "7942  20001    van Arnhem tot Harselo   1636-01-01  1716-12-12          NaN   \n",
       "7943  20002                van Arnhem   1596-01-01  1649-09-06          NaN   \n",
       "7944  20003    van Haersolte tot Yrst   1644-01-01  1728-07-01         82.0   \n",
       "\n",
       "                                               colleges  \\\n",
       "0     Staten-Generaal der Verenigde Nederlandse Prov...   \n",
       "1     Provisionele Representanten van het Volk van Z...   \n",
       "2                         Hof van Friesland (1499-1811)   \n",
       "3     Staten-Generaal der Verenigde Nederlandse Prov...   \n",
       "4     Provisionele Representanten van het Volk van B...   \n",
       "...                                                 ...   \n",
       "7940  Generaliteitsrekenkamer (1608-1799), Staten-Ge...   \n",
       "7941  Staten-Generaal der Verenigde Nederlanden (158...   \n",
       "7942  Ridderschap van het Kwartier Veluwe, Gedeputee...   \n",
       "7943  Ridderschap van het Kwartier Veluwe, Gedeputee...   \n",
       "7944  Generaliteitsrekenkamer (1608-1799), Gedeputee...   \n",
       "\n",
       "                                        functions  \\\n",
       "0                                    gedeputeerde   \n",
       "1                                             lid   \n",
       "2                                       raadsheer   \n",
       "3                                    gedeputeerde   \n",
       "4                                             lid   \n",
       "...                                           ...   \n",
       "7940       gecommitteerde, ordinaris gedeputeerde   \n",
       "7941                  ordinaris gedeputeerde, lid   \n",
       "7942  lid, gedeputeerde, extraordinaris raadsheer   \n",
       "7943     lid, extraordinaris raadsheer, raadsheer   \n",
       "7944                          gecommitteerde, lid   \n",
       "\n",
       "                                                 period     sg  \\\n",
       "0     PeriodIndex(['1795-06-03', '1795-06-04', '1795...   True   \n",
       "1     PeriodIndex(['1795-10-20', '1795-10-21', '1795...  False   \n",
       "2     PeriodIndex(['1795-08-28', '1795-08-29', '1795...  False   \n",
       "3     PeriodIndex(['1796-03-01'], dtype='period[D]',...   True   \n",
       "4     PeriodIndex(['1795-08-24', '1795-08-25', '1795...  False   \n",
       "...                                                 ...    ...   \n",
       "7940  PeriodIndex(['1696-05-02', '1696-05-03', '1696...   True   \n",
       "7941  PeriodIndex(['1660-10-15', '1660-10-16', '1660...   True   \n",
       "7942  PeriodIndex(['1658-01-01', '1658-01-02', '1658...  False   \n",
       "7943  PeriodIndex(['1619-01-01', '1619-01-02', '1619...  False   \n",
       "7944  PeriodIndex(['1675-03-18', '1675-03-19', '1675...  False   \n",
       "\n",
       "      was_gedeputeerde    p_interval        h_life geboortedatum_p  \\\n",
       "0                 True  [1795, 1796]  [1763, 1837]      1763-01-01   \n",
       "1                False  [1795, 1796]  [1767, 1828]      1767-01-01   \n",
       "2                False  [1795, 1796]  [1767, 1810]      1767-01-01   \n",
       "3                 True  [1796, 1796]  [1755, 1816]      1755-01-01   \n",
       "4                False  [1795, 1796]  [1757, 1835]      1757-01-01   \n",
       "...                ...           ...           ...             ...   \n",
       "7940              True  [1696, 1714]  [1674, 1730]      1674-01-01   \n",
       "7941              True  [1660, 1705]  [1616, 1703]             NaT   \n",
       "7942             False  [1658, 1716]  [1636, 1716]      1636-01-01   \n",
       "7943             False  [1619, 1649]  [1596, 1649]      1596-01-01   \n",
       "7944             False  [1675, 1728]  [1644, 1728]      1644-01-01   \n",
       "\n",
       "     overlijdensjaar  \n",
       "0         1837-12-31  \n",
       "1         1828-12-31  \n",
       "2         1810-12-31  \n",
       "3         1816-12-31  \n",
       "4         1835-12-31  \n",
       "...              ...  \n",
       "7940      1730-05-02  \n",
       "7941      1703-12-31  \n",
       "7942      1716-12-12  \n",
       "7943      1649-09-06  \n",
       "7944      1728-07-01  \n",
       "\n",
       "[7945 rows x 14 columns]"
      ]
     },
     "execution_count": 67,
     "metadata": {},
     "output_type": "execute_result"
    }
   ],
   "source": [
    "pd.read_pickle('/Users/rikhoekstra/surfdrive/notebooks/republic-hocr-parser/notebooks/sheets/abbreviated_delegates.pickle')"
   ]
  },
  {
   "cell_type": "code",
   "execution_count": null,
   "metadata": {},
   "outputs": [],
   "source": []
  },
  {
   "cell_type": "code",
   "execution_count": 188,
   "metadata": {},
   "outputs": [],
   "source": [
    "for interval in [\"hypothetical_life\", \"period_active\"]:\n",
    "    jsondelegates[interval]=jsondelegates[interval].apply(lambda x: [x.left, x.right])"
   ]
  }
 ],
 "metadata": {
  "kernelspec": {
   "display_name": "Python 3",
   "language": "python",
   "name": "python3"
  },
  "language_info": {
   "codemirror_mode": {
    "name": "ipython",
    "version": 3
   },
   "file_extension": ".py",
   "mimetype": "text/x-python",
   "name": "python",
   "nbconvert_exporter": "python",
   "pygments_lexer": "ipython3",
   "version": "3.7.2"
  }
 },
 "nbformat": 4,
 "nbformat_minor": 4
}
